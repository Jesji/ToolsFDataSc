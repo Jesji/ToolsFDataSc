{
 "cells": [
  {
   "cell_type": "markdown",
   "id": "ccf61f58-f053-485a-adb0-8921aeb7fb7d",
   "metadata": {},
   "source": [
    "# \"My jupyter notebook on IBM Watson studio\""
   ]
  },
  {
   "cell_type": "markdown",
   "id": "54ec2c15-3dd3-47a6-8d28-9f5015500d09",
   "metadata": {},
   "source": [
    "**Jesus Jimenez Juarez**\n",
    "\n",
    "Data scientist"
   ]
  },
  {
   "cell_type": "markdown",
   "id": "21ff4161-f16e-4ae8-a20c-d3300234af95",
   "metadata": {},
   "source": [
    "*I am interested in data science to contribute creating solutions for sustainability issues, for instance, public transportation planning or power system optimisation*"
   ]
  },
  {
   "cell_type": "markdown",
   "id": "06e335e0-5d49-42a2-be4d-e28128fd35e2",
   "metadata": {},
   "source": [
    "### The code below computes the multipliation of 4 times 12 and prints the result"
   ]
  },
  {
   "cell_type": "code",
   "execution_count": 2,
   "id": "d59b4492-dfd7-4e0c-a6f9-49ad6e7e1ee6",
   "metadata": {},
   "outputs": [
    {
     "name": "stdout",
     "output_type": "stream",
     "text": [
      "48\n"
     ]
    }
   ],
   "source": [
    "#CODE\n",
    "x = 4*12\n",
    "print(x)"
   ]
  },
  {
   "cell_type": "markdown",
   "id": "f6edb5ff-f045-43df-acf0-c3ddf6837190",
   "metadata": {},
   "source": [
    "Main components of an electric vehicle are:\n",
    "- battery pack\n",
    "- controller\n",
    "- motor\n",
    "- cooling system\n",
    "\n",
    "The follonwing is a very explanatory picture: \n",
    "![](process_of_data.PNG)\n",
    "\n",
    "Data sience can be divided in the following proccesses:\n",
    "1. Data management\n",
    "2. Data integration and\n",
    "3. data visualization\n",
    "4. Model builindg\n",
    "5. Model deployement\n",
    "\n",
    "click on the next link to have for information\n",
    "(https://es.wikipedia.org/wiki/Ciencia_de_datos)\n",
    "\n",
    "---------------------------------\n",
    "\n",
    "| Name     | Adddres | Purchase     |\n",
    "| :---        |    :----:   |          ---: |\n",
    "| James     | Norton St.    | TV  |\n",
    "| Sophie | Colors Av. | smartwatch| \n",
    "     \n",
    "-------------------------------\n"
   ]
  },
  {
   "cell_type": "code",
   "execution_count": null,
   "id": "4200d55b-bca2-4314-9110-ba2ed7be2df6",
   "metadata": {},
   "outputs": [],
   "source": []
  }
 ],
 "metadata": {
  "kernelspec": {
   "display_name": "Python 3",
   "language": "python",
   "name": "python3"
  },
  "language_info": {
   "codemirror_mode": {
    "name": "ipython",
    "version": 3
   },
   "file_extension": ".py",
   "mimetype": "text/x-python",
   "name": "python",
   "nbconvert_exporter": "python",
   "pygments_lexer": "ipython3",
   "version": "3.8.8"
  }
 },
 "nbformat": 4,
 "nbformat_minor": 5
}
